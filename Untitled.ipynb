{
 "cells": [
  {
   "cell_type": "code",
   "execution_count": 2,
   "id": "f11c6842",
   "metadata": {},
   "outputs": [
    {
     "name": "stdout",
     "output_type": "stream",
     "text": [
      "5\n"
     ]
    }
   ],
   "source": [
    "x = 5 \n",
    "a = x + 3\n",
    "print(x) "
   ]
  },
  {
   "cell_type": "markdown",
   "id": "c9da6025",
   "metadata": {},
   "source": [
    "#Markdown  \n",
    "This is markdown code.  \n",
    "__Bold__"
   ]
  },
  {
   "cell_type": "code",
   "execution_count": null,
   "id": "fca20453",
   "metadata": {},
   "outputs": [],
   "source": []
  },
  {
   "cell_type": "code",
   "execution_count": null,
   "id": "217bdeb5",
   "metadata": {},
   "outputs": [],
   "source": []
  }
 ],
 "metadata": {
  "kernelspec": {
   "display_name": "Python 3 (ipykernel)",
   "language": "python",
   "name": "python3"
  },
  "language_info": {
   "codemirror_mode": {
    "name": "ipython",
    "version": 3
   },
   "file_extension": ".py",
   "mimetype": "text/x-python",
   "name": "python",
   "nbconvert_exporter": "python",
   "pygments_lexer": "ipython3",
   "version": "3.10.6"
  }
 },
 "nbformat": 4,
 "nbformat_minor": 5
}
